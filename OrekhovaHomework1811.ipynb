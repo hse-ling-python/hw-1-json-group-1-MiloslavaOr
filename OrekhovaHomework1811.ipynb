{
 "cells": [
  {
   "cell_type": "markdown",
   "metadata": {},
   "source": [
    "# Домашняя работа 1, выполнена Ореховой Милославой\n"
   ]
  },
  {
   "cell_type": "markdown",
   "metadata": {},
   "source": [
    "## 1. Сколько твитов в наборе?"
   ]
  },
  {
   "cell_type": "code",
   "execution_count": 65,
   "metadata": {},
   "outputs": [
    {
     "name": "stdout",
     "output_type": "stream",
     "text": [
      "Количество твитов - 2556\n"
     ]
    }
   ],
   "source": [
    "import json\n",
    "import urllib.request\n",
    "from collections import Counter\n",
    "from string import punctuation\n",
    "import re\n",
    "\n",
    "twitter = [] #создаем пустое множество, чтобы поместить в него туда потом все строки\n",
    "\n",
    "for line in open('hw_3_twitter.json'):\n",
    "    twitter.append(json.loads(line)) #\n",
    "    \n",
    "print('Количество твитов -', len(twitter)) #вывести количество твитов"
   ]
  },
  {
   "cell_type": "markdown",
   "metadata": {},
   "source": [
    "## 2. Какой процент твитов составляют удаленные записи? (помеченные как deleted)"
   ]
  },
  {
   "cell_type": "code",
   "execution_count": 66,
   "metadata": {},
   "outputs": [
    {
     "name": "stdout",
     "output_type": "stream",
     "text": [
      "Процент удаленных твитов - 14.162754303599375\n"
     ]
    }
   ],
   "source": [
    "a = 0\n",
    "\n",
    "for line in twitter:\n",
    "    if 'delete' in line:\n",
    "        a = a+1\n",
    "        \n",
    "per = len(twitter)/100\n",
    "\n",
    "print('Процент удаленных твитов -', a/per)"
   ]
  },
  {
   "cell_type": "markdown",
   "metadata": {},
   "source": [
    "## 3. Какие самые популярные языки твитов?"
   ]
  },
  {
   "cell_type": "code",
   "execution_count": 41,
   "metadata": {
    "scrolled": true
   },
   "outputs": [
    {
     "name": "stdout",
     "output_type": "stream",
     "text": [
      "Самые частые языки:\n",
      "en\n",
      "ja\n",
      "es\n",
      "ko\n",
      "th\n",
      "ar\n",
      "und\n",
      "in\n",
      "pt\n",
      "fr\n"
     ]
    }
   ],
   "source": [
    "languages = []\n",
    "\n",
    "for line in twitter:\n",
    "    if line.get('lang') is not None: #вытаскиваем все ключи lang из каждой строки\n",
    "        languages.append(line.get('lang')) #и если у него есть значение то мы его прикрепляем к списку\n",
    "        \n",
    "big_counter = Counter(languages) #делаем каунтер, создаем частотный словарь\n",
    "ten_top_languages = big_counter.most_common(10) #выводим десять самых частых\n",
    "\n",
    "print('Самые частые языки:')\n",
    "for language in ten_top_languages:\n",
    "    the_language = language[0]\n",
    "    print(the_language)    \n",
    "    "
   ]
  },
  {
   "cell_type": "markdown",
   "metadata": {},
   "source": [
    "## 5. Топ-20 хэштегов (для них есть специальное поле)"
   ]
  },
  {
   "cell_type": "code",
   "execution_count": 47,
   "metadata": {},
   "outputs": [
    {
     "name": "stdout",
     "output_type": "stream",
     "text": [
      "Топ-20 самых популярных тегов:\n",
      "BTS\n",
      "방탄소년단\n",
      "AMAs\n",
      "人気投票ガチャ\n",
      "태형\n",
      "뷔\n",
      "BTSinChicago\n",
      "BTSLoveYourselfTour\n",
      "오늘의방탄\n",
      "PledgeForSwachhBharat\n",
      "MPN\n",
      "PCAs\n",
      "V\n",
      "시카고1회차공연\n",
      "เป๊กผลิตโชค\n",
      "JIMIN\n",
      "running\n",
      "NCT\n",
      "지민\n",
      "WajahmuPlastik\n"
     ]
    }
   ],
   "source": [
    "tags = []\n",
    "\n",
    "for line in twitter:\n",
    "    if line.get('entities') is not None: #ЕСли у entities в строке есть значение\n",
    "        tags_from_line = line['entities'].get('hashtags') #то из этой строки мы его вытаскиваем вместе с hashtags\n",
    "        if tags_from_line is not None: #если у нас получилось (значение есть)\n",
    "            for hashtags in tags_from_line:\n",
    "                if hashtags.get('text') is not None:\n",
    "                    tag = hashtags.get('text')\n",
    "                    tags.append(tag) #мы закидываем текст в созданное множество\n",
    "                    \n",
    "counter_of_tags = Counter(tags) #создаем каунтер\n",
    "top_tags = counter_of_tags.most_common(20) #выводим 20 самых популярных\n",
    "\n",
    "print('Топ-20 самых популярных тегов:')\n",
    "for tag in top_tags:\n",
    "    the_tag = tag[0]\n",
    "    print(the_tag)\n"
   ]
  },
  {
   "cell_type": "markdown",
   "metadata": {},
   "source": [
    "## 7. Найти количество подписчиков (фолловеров) у авторов твитов и вывести топ-10"
   ]
  },
  {
   "cell_type": "code",
   "execution_count": 64,
   "metadata": {},
   "outputs": [
    {
     "name": "stdout",
     "output_type": "stream",
     "text": [
      "ТОП-10 авторов и количество их подписчиков:\n",
      "Filosofía♕\t2521403\n",
      "FITNESS Magazine\t1491309\n",
      "malaysiakini.com\t1206759\n",
      "NYT Science\t1137374\n",
      "Gramática\t625463\n",
      "TGRT Haber\t392472\n",
      "The Sun Football ⚽\t383698\n",
      "Melbourne, Australia\t374222\n",
      "Roznama Express\t318189\n",
      "💞 ცųཞɠɛཞცơơɠıɛ 💞\t311319\n"
     ]
    }
   ],
   "source": [
    "top_authors = {}  #создаем пустой словарь\n",
    "\n",
    "for i in range(len(twitter)):\n",
    "    if 'delete' not in twitter[i].keys(): #фильтруем неудаленное\n",
    "        top_authors[twitter[i]['user']['name']] = twitter[i]['user']['followers_count'] #смотрим юзеров и считаем подписчиков\n",
    "author_count = Counter(top_authors).most_common(10)\n",
    "print('ТОП-10 авторов и количество их подписчиков:')\n",
    "for af in author_count:\n",
    "    auth = af[0]\n",
    "    follower = af[1]\n",
    "    print(auth + '\\t' + str(follower))  #печатает"
   ]
  },
  {
   "cell_type": "markdown",
   "metadata": {},
   "source": [
    "## 8. Топ-10 источников твита (из какого приложения написан) (подсказка: для обработки используйте регулярные выражения)"
   ]
  },
  {
   "cell_type": "code",
   "execution_count": 52,
   "metadata": {},
   "outputs": [
    {
     "name": "stdout",
     "output_type": "stream",
     "text": [
      "Топ-10 источников твита:\n",
      "Twitter for iPhone\n",
      "Twitter for Android\n",
      "Twitter Web Client\n",
      "twittbot.net\n",
      "Twitter Lite\n",
      "Twitter for iPad\n",
      "TweetDeck\n",
      "Facebook\n",
      "IFTTT\n",
      "تطبيق قرآني\n"
     ]
    }
   ],
   "source": [
    "sources = [] #создаем пустой список чтобы потом кидать туда источники\n",
    "\n",
    "for line in twitter:\n",
    "    if line.get('source') is not None: #Если у этого ключа есть значение\n",
    "        source = line.get('source') #То мы его вытаскиваем\n",
    "        regg = r'\\u003ca href=\\\".*?\\\" rel=\\\"nofollow\\\"\\u003e(.*?)\\u003c' #регулярное выражение для поиска источника\n",
    "        result = re.search(regg, source) #результат поиска регулярками - отсюда будем вытаскивать финальные результаты\n",
    "        if result is not None: #если вообще что-то нашли, то\n",
    "            sources.append(result.group(1)) #\"группируем\" результаты и прикрепляем их к нашему пустому списку\n",
    "            \n",
    "counter_of_sources = Counter(sources) #создаем словарь частотностей\n",
    "top_sources = counter_of_sources.most_common(10) #и берем сверху 10 самых частых\n",
    "print('Топ-10 источников твита:')\n",
    "for source in top_sources:\n",
    "    the_source = source[0]\n",
    "    print(the_source)\n"
   ]
  },
  {
   "cell_type": "code",
   "execution_count": null,
   "metadata": {},
   "outputs": [],
   "source": []
  }
 ],
 "metadata": {
  "kernelspec": {
   "display_name": "Python 3",
   "language": "python",
   "name": "python3"
  },
  "language_info": {
   "codemirror_mode": {
    "name": "ipython",
    "version": 3
   },
   "file_extension": ".py",
   "mimetype": "text/x-python",
   "name": "python",
   "nbconvert_exporter": "python",
   "pygments_lexer": "ipython3",
   "version": "3.7.3"
  }
 },
 "nbformat": 4,
 "nbformat_minor": 2
}
